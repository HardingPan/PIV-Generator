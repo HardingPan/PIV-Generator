{
 "cells": [
  {
   "cell_type": "markdown",
   "id": "340f395e-3f2d-4ef7-8ee2-85f740df5077",
   "metadata": {},
   "source": [
    "### Save the PIG data to '.npz' file\n",
    "- uniform flow\n",
    "- sine flow\n",
    "- Lamb-Oseen flow"
   ]
  },
  {
   "cell_type": "code",
   "execution_count": 1,
   "id": "9f8f9885-5602-4978-abf8-575446bac21d",
   "metadata": {},
   "outputs": [],
   "source": [
    "import numpy as np\n",
    "import matplotlib.pyplot as plt\n",
    "\n",
    "from config import config\n",
    "from generator import Generator\n",
    "from plot import plot_field\n",
    "\n",
    "\n",
    "cfg = config()\n",
    "pig = Generator(cfg)"
   ]
  },
  {
   "cell_type": "code",
   "execution_count": 2,
   "id": "277965e6-e1f0-4815-aa32-66273744e1d8",
   "metadata": {},
   "outputs": [
    {
     "name": "stdout",
     "output_type": "stream",
     "text": [
      "5.0\n",
      "10.0\n",
      "25.0\n",
      "50.0\n",
      "75.0\n"
     ]
    }
   ],
   "source": [
    "# uniform flow\n",
    "cfg.flow = \"uniform_flow\" # \"uniform_flow\", \"sine_flow\", \"lamboseen_flow\", \"cellular_flow\"\n",
    "for dx in [5.0, 10., 25.0, 50.0, 75.0]:\n",
    "    cfg.uniform_flow   ={'c_x':dx, 'c_y':0.} # uniform_flow\n",
    "    pig = Generator(cfg)\n",
    "    img1, img2, ut, vt = pig.compute()\n",
    "    np.savez(f\"./output/uniform_flow_{dx}.npz\", u=ut, v=vt, img1=img1, img2=img2)\n",
    "    print(np.max(np.sqrt(ut**2+vt**2)))"
   ]
  },
  {
   "cell_type": "code",
   "execution_count": 3,
   "id": "29200cc2-710a-4c12-bfb0-8731d537b09d",
   "metadata": {},
   "outputs": [
    {
     "name": "stdout",
     "output_type": "stream",
     "text": [
      "5.000000000000001\n",
      "10.000000000000002\n",
      "25.000000000000004\n",
      "50.00000000000001\n",
      "75.00000000000001\n"
     ]
    }
   ],
   "source": [
    "# sine_flow\n",
    "cfg.flow = \"sine_flow\" # \"uniform_flow\", \"sine_flow\", \"lamboseen_flow\", \"cellular_flow\"\n",
    "for dx in [5.0, 10., 25.0, 50.0, 75.0]:\n",
    "    cfg.sine_flow      ={'a':5, 'px':128, 'vmax':dx} \n",
    "    pig = Generator(cfg)\n",
    "    img1, img2, ut, vt = pig.compute()\n",
    "    np.savez(f\"./output/sine_flow_{dx}.npz\", u=ut, v=vt, img1=img1, img2=img2)\n",
    "    print(np.max(np.sqrt(ut**2+vt**2)))"
   ]
  },
  {
   "cell_type": "code",
   "execution_count": null,
   "id": "712b2d52-1e15-4950-9da0-c6a2902b6a0f",
   "metadata": {},
   "outputs": [],
   "source": [
    "# lamboseen_flow\n",
    "cfg.flow = \"lamboseen_flow\" # \"uniform_flow\", \"sine_flow\", \"lamboseen_flow\", \"cellular_flow\"\n",
    "for gamma in [2.5e3, 5e3, 1.25e4, 2.5e4, 3.75e4]:\n",
    "    cfg.lamboseen_flow['gamma'] = gamma\n",
    "    pig = Generator(cfg)\n",
    "    img1, img2, ut, vt = pig.compute()\n",
    "    np.savez(f\"./output/lamboseen_flow_{gamma}.npz\", u=ut, v=vt, img1=img1, img2=img2)\n",
    "    print(np.max(np.sqrt(ut**2+vt**2)))"
   ]
  }
 ],
 "metadata": {
  "kernelspec": {
   "display_name": "Python 3 (ipykernel)",
   "language": "python",
   "name": "python3"
  },
  "language_info": {
   "codemirror_mode": {
    "name": "ipython",
    "version": 3
   },
   "file_extension": ".py",
   "mimetype": "text/x-python",
   "name": "python",
   "nbconvert_exporter": "python",
   "pygments_lexer": "ipython3",
   "version": "3.8.18"
  }
 },
 "nbformat": 4,
 "nbformat_minor": 5
}
