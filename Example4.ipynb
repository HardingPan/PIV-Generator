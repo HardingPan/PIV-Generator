{
 "cells": [
  {
   "cell_type": "code",
   "execution_count": 1,
   "id": "dedb29e4-339c-4d1f-97ea-98948a7b57b2",
   "metadata": {},
   "outputs": [],
   "source": [
    "import numpy as np\n",
    "import matplotlib.pyplot as plt\n",
    "\n",
    "from config import config\n",
    "from generator import Generator\n",
    "from plot import plot_field\n",
    "\n",
    "\n",
    "cfg = config()\n",
    "pig = Generator(cfg)"
   ]
  },
  {
   "cell_type": "code",
   "execution_count": 2,
   "id": "d76d5fc2-7e4b-479d-9aee-d49467a12c70",
   "metadata": {},
   "outputs": [],
   "source": [
    "# uniform flow\n",
    "dx = 4.75\n",
    "cfg.flow = \"uniform_flow\" # \"uniform_flow\", \"sine_flow\", \"lamboseen_flow\", \"cellular_flow\"\n",
    "cfg.uniform_flow   ={'c_x':dx, 'c_y':0.} # uniform_flow\n",
    "pig = Generator(cfg)\n",
    "img1, img2, ut, vt = pig.compute()\n",
    "np.savez(f\"./uniform_flow_{dx}.npz\", u=ut, v=vt, img1=img1, img2=img2)"
   ]
  }
 ],
 "metadata": {
  "kernelspec": {
   "display_name": "Python 3 (ipykernel)",
   "language": "python",
   "name": "python3"
  },
  "language_info": {
   "codemirror_mode": {
    "name": "ipython",
    "version": 3
   },
   "file_extension": ".py",
   "mimetype": "text/x-python",
   "name": "python",
   "nbconvert_exporter": "python",
   "pygments_lexer": "ipython3",
   "version": "3.8.18"
  }
 },
 "nbformat": 4,
 "nbformat_minor": 5
}
